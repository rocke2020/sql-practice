{
 "cells": [
  {
   "cell_type": "code",
   "execution_count": 4,
   "metadata": {},
   "outputs": [
    {
     "name": "stderr",
     "output_type": "stream",
     "text": [
      "ic| 3987545864.py:26 in test_mod()- i: 0, i%12: 0\n",
      "ic| 3987545864.py:26 in test_mod()- i: 1, i%12: 1\n",
      "ic| 3987545864.py:26 in test_mod()- i: 2, i%12: 2\n",
      "ic| 3987545864.py:26 in test_mod()- i: 3, i%12: 3\n",
      "ic| 3987545864.py:26 in test_mod()- i: 4, i%12: 4\n",
      "ic| 3987545864.py:26 in test_mod()- i: 5, i%12: 5\n",
      "ic| 3987545864.py:26 in test_mod()- i: 6, i%12: 6\n",
      "ic| 3987545864.py:26 in test_mod()- i: 7, i%12: 7\n",
      "ic| 3987545864.py:26 in test_mod()- i: 8, i%12: 8\n",
      "ic| 3987545864.py:26 in test_mod()- i: 9, i%12: 9\n",
      "ic| 3987545864.py:26 in test_mod()- i: 10, i%12: 10\n",
      "ic| 3987545864.py:26 in test_mod()- i: 11, i%12: 11\n",
      "ic| 3987545864.py:26 in test_mod()- i: 12, i%12: 0\n",
      "\u001b[32m2024-06-22 07:31:16.581\u001b[0m | \u001b[1mINFO    \u001b[0m | \u001b[36m__main__\u001b[0m:\u001b[36m<module>\u001b[0m:\u001b[36m36\u001b[0m - \u001b[1mend\u001b[0m\n"
     ]
    }
   ],
   "source": [
    "import argparse\n",
    "import json\n",
    "import math\n",
    "import os\n",
    "import random\n",
    "import re\n",
    "import shutil\n",
    "import sys\n",
    "import time\n",
    "from collections import defaultdict\n",
    "from pathlib import Path\n",
    "from datetime import datetime\n",
    "\n",
    "from loguru import logger\n",
    "from icecream import ic\n",
    "\n",
    "sys.path.append(os.path.abspath('.'))\n",
    "\n",
    "ic.configureOutput(includeContext=True, argToStringFunction=str)\n",
    "ic.lineWrapWidth = 120\n",
    "SEED = 0\n",
    "random.seed(SEED)\n",
    "\n",
    "def test_mod():\n",
    "    for i in range(0, 13):\n",
    "        ic(i, i%12)\n",
    "\n",
    "\n",
    "def main():\n",
    "    test_mod()\n",
    "    pass\n",
    "\n",
    "\n",
    "if __name__ == '__main__':\n",
    "    main()\n",
    "    logger.info('end')\n"
   ]
  }
 ],
 "metadata": {
  "kernelspec": {
   "display_name": "py310",
   "language": "python",
   "name": "python3"
  },
  "language_info": {
   "codemirror_mode": {
    "name": "ipython",
    "version": 3
   },
   "file_extension": ".py",
   "mimetype": "text/x-python",
   "name": "python",
   "nbconvert_exporter": "python",
   "pygments_lexer": "ipython3",
   "version": "3.10.13"
  }
 },
 "nbformat": 4,
 "nbformat_minor": 2
}
