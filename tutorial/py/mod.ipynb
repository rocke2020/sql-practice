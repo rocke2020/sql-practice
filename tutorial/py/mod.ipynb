{
 "cells": [
  {
   "cell_type": "code",
   "execution_count": 1,
   "metadata": {},
   "outputs": [
    {
     "name": "stderr",
     "output_type": "stream",
     "text": [
      "ic| 3481139481.py:26 in test_mod()- i: 0, i%5: 0\n",
      "ic| 3481139481.py:26 in test_mod()- i: 1, i%5: 1\n",
      "ic| 3481139481.py:26 in test_mod()- i: 2, i%5: 2\n",
      "ic| 3481139481.py:26 in test_mod()- i: 3, i%5: 3\n",
      "ic| 3481139481.py:26 in test_mod()- i: 4, i%5: 4\n",
      "ic| 3481139481.py:26 in test_mod()- i: 5, i%5: 0\n",
      "\u001b[32m2024-06-25 21:17:27.774\u001b[0m | \u001b[1mINFO    \u001b[0m | \u001b[36m__main__\u001b[0m:\u001b[36m<module>\u001b[0m:\u001b[36m38\u001b[0m - \u001b[1mend\u001b[0m\n"
     ]
    },
    {
     "name": "stdout",
     "output_type": "stream",
     "text": [
      "20\n"
     ]
    }
   ],
   "source": [
    "import argparse\n",
    "import json\n",
    "import math\n",
    "import os\n",
    "import random\n",
    "import re\n",
    "import shutil\n",
    "import sys\n",
    "import time\n",
    "from collections import defaultdict\n",
    "from pathlib import Path\n",
    "from datetime import datetime\n",
    "\n",
    "from loguru import logger\n",
    "from icecream import ic\n",
    "\n",
    "sys.path.append(os.path.abspath('.'))\n",
    "\n",
    "ic.configureOutput(includeContext=True, argToStringFunction=str)\n",
    "ic.lineWrapWidth = 120\n",
    "SEED = 0\n",
    "random.seed(SEED)\n",
    "\n",
    "def test_mod():\n",
    "    for i in range(0, 6):\n",
    "        ic(i, i%5)\n",
    "\n",
    "\n",
    "def main():\n",
    "    test_mod()\n",
    "    a = 10\n",
    "    b = a << 1\n",
    "    print(b)\n",
    "\n",
    "\n",
    "if __name__ == '__main__':\n",
    "    main()\n",
    "    logger.info('end')\n"
   ]
  }
 ],
 "metadata": {
  "kernelspec": {
   "display_name": "py310",
   "language": "python",
   "name": "python3"
  },
  "language_info": {
   "codemirror_mode": {
    "name": "ipython",
    "version": 3
   },
   "file_extension": ".py",
   "mimetype": "text/x-python",
   "name": "python",
   "nbconvert_exporter": "python",
   "pygments_lexer": "ipython3",
   "version": "3.10.13"
  }
 },
 "nbformat": 4,
 "nbformat_minor": 2
}
